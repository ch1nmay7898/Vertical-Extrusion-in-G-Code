{
  "nbformat": 4,
  "nbformat_minor": 0,
  "metadata": {
    "colab": {
      "name": "Z-Movement adder.ipynb",
      "provenance": [],
      "collapsed_sections": []
    },
    "kernelspec": {
      "name": "python3",
      "display_name": "Python 3"
    }
  },
  "cells": [
    {
      "cell_type": "markdown",
      "metadata": {
        "id": "TaW45CmlqHO-",
        "colab_type": "text"
      },
      "source": [
        "# **General Instructions**\n",
        "\n",
        "\n",
        "*   This is a python notebook (an environment where python code can be written and executed). \n",
        "*   This notebook is divided into code/text blocks, also called cells.\n",
        "*   Cells can be navigated using up/down arrow keys.\n",
        "*   To execute the current cell, press shift key and enter key, together (shift + enter).\n",
        "*   Executing a cell will automatically navigate you down to the next cell.\n",
        "*   Now you may execute the cells below.\n"
      ]
    },
    {
      "cell_type": "code",
      "metadata": {
        "id": "Qx3vBcnJ3i2e",
        "colab_type": "code",
        "colab": {}
      },
      "source": [
        "import re\n",
        "import pandas as pd\n",
        "import os\n",
        "from google.colab import files\n",
        "import numpy as np\n",
        "import matplotlib.pyplot as plt"
      ],
      "execution_count": 0,
      "outputs": []
    },
    {
      "cell_type": "markdown",
      "metadata": {
        "id": "3DLuYjnStdn2",
        "colab_type": "text"
      },
      "source": [
        "*After executing the below cell:*\n",
        "\n",
        "1.   click on \"Choose Files\"\n",
        "2.   browse for \"sample.txt\" (this is your existing G-Code in a text file)\n",
        "3.   select \"sample.txt\"\n",
        "4.   click open\n",
        "\n"
      ]
    },
    {
      "cell_type": "code",
      "metadata": {
        "id": "XNtWjgPT8GsG",
        "colab_type": "code",
        "colab": {}
      },
      "source": [
        "uploaded = files.upload()"
      ],
      "execution_count": 0,
      "outputs": []
    },
    {
      "cell_type": "code",
      "metadata": {
        "id": "73Qe48kRX3pH",
        "colab_type": "code",
        "colab": {}
      },
      "source": [
        "f1 = open(\"sample.txt\", \"rt\")\n",
        "regex_X = r\"X([\\d]*\\.?[\\d]*)\"\n",
        "matches_X = re.findall(regex_X, f1.read())\n",
        "f1.close()\n",
        "\n",
        "f1 = open(\"sample.txt\", \"rt\")\n",
        "regex_Y = r\"Y([\\d]*\\.?[\\d]*)\"\n",
        "matches_Y = re.findall(regex_Y, f1.read())\n",
        "f1.close()\n",
        "\n",
        "f1 = open(\"sample.txt\", \"rt\")\n",
        "regex_Z = r\"Z([\\d]*\\.?[\\d]*)\"\n",
        "matches_Z = re.findall(regex_Z, f1.read())\n",
        "f1.close()\n",
        "\n",
        "f1 = open(\"sample.txt\", \"rt\")\n",
        "regex_E = r\"E([\\d]*\\.?[\\d]*)\"\n",
        "matches_E = re.findall(regex_E, f1.read())\n",
        "f1.close()\n",
        "\n",
        "f1 = open(\"sample.txt\", \"rt\")\n",
        "regex_F = r\"F([\\d]*\\.?[\\d]*)\"\n",
        "matches_F = re.findall(regex_F, f1.read())\n",
        "f1.close()"
      ],
      "execution_count": 0,
      "outputs": []
    },
    {
      "cell_type": "code",
      "metadata": {
        "id": "m9mbCzyQYSfG",
        "colab_type": "code",
        "colab": {}
      },
      "source": [
        "values_X = []\n",
        "values_Y = []\n",
        "values_Z = []\n",
        "values_E = []\n",
        "values_F = []\n",
        "for match in matches_X:\n",
        "    values_X.append(float(match))\n",
        "\n",
        "for match in matches_Y:\n",
        "    values_Y.append(float(match))\n",
        "\n",
        "for match in matches_Z:\n",
        "    values_Z.append(float(match))\n",
        "\n",
        "for match in matches_E:\n",
        "    values_E.append(float(match))\n",
        "\n",
        "for match in matches_F:\n",
        "    values_F.append(float(match))"
      ],
      "execution_count": 0,
      "outputs": []
    },
    {
      "cell_type": "code",
      "metadata": {
        "id": "IO5qitn6lnU9",
        "colab_type": "code",
        "colab": {}
      },
      "source": [
        "count_X = len(values_X)\n",
        "count_Y = len(values_Y) \n",
        "count_Z = len(values_Z) \n",
        "count_E = len(values_E)\n",
        "n = count_X - 1"
      ],
      "execution_count": 0,
      "outputs": []
    },
    {
      "cell_type": "markdown",
      "metadata": {
        "id": "IxhBdorjvsd7",
        "colab_type": "text"
      },
      "source": [
        "Executing the cell below will generate examples of the available co-ordinates "
      ]
    },
    {
      "cell_type": "code",
      "metadata": {
        "id": "ftRBwAl_MBWQ",
        "colab_type": "code",
        "colab": {}
      },
      "source": [
        "all_values = []\n",
        "available_points = []\n",
        "for i in range(n): \n",
        "  if (values_X[i] != values_X[i+1]):\n",
        "    m = ((values_Y[i+1] - values_Y[i])/(values_X[i+1] - values_X[i]))\n",
        "    temp_X1 = (values_X[i] * 10)\n",
        "    temp_X2 = (values_X[i+1] * 10)\n",
        "    temp_X = abs(temp_X2 - temp_X1)\n",
        "    temp_X = int(temp_X)\n",
        "    if (values_X[i] > values_X[i+1]):\n",
        "      X = values_X[i+1]\n",
        "    else:\n",
        "      X = values_X[i]\n",
        "    for j in range(temp_X):\n",
        "      if (values_X[i] < values_X[i+1]):\n",
        "        X -= 0.1 \n",
        "      else:\n",
        "        X += 0.1\n",
        "      Y = (m*(X - values_X[i])) + values_Y[i]\n",
        "      #f = \"|\" + str('%.2f'%X) + \",\" + str('%.2f'%Y) + \"|\"\n",
        "      f = ('%.2f'%X, '%.2f'%Y)\n",
        "      available_points.append(f)\n",
        "      #print('%.2f'%X, '%.2f'%Y, sep=\",\")\n",
        "\n",
        "  else:\n",
        "    temp_Y1 = (values_Y[i] * 10)\n",
        "    temp_Y2 = (values_Y[i+1] * 10)\n",
        "    temp_Y = abs(temp_Y2 - temp_Y1)\n",
        "    temp_Y = int(temp_Y)\n",
        "    if (values_Y[i] > values_Y[i+1]):\n",
        "      Y = values_Y[i+1]\n",
        "    else:\n",
        "      Y = values_Y[i]\n",
        "    for k in range(temp_Y):\n",
        "      X = values_X[i]\n",
        "      if (values_Y[i] > values_Y[i+1]):\n",
        "        Y -= 0.1 \n",
        "      else:\n",
        "        Y += 0.1\n",
        "      #f = \"|\" + str('%.2f'%X) + \",\" + str('%.2f'%Y) + \"|\"\n",
        "      f = ('%.2f'%X, '%.2f'%Y)\n",
        "      available_points.append(f)\n",
        "      #print('%.2f'%X, '%.2f'%Y, sep=\" , \")\n",
        "  print(available_points)\n",
        "  all_values.extend(available_points)\n",
        "  available_points.clear()\n",
        "  #print(\"____________________________________________________________________________________________________________________\")\n"
      ],
      "execution_count": 0,
      "outputs": []
    },
    {
      "cell_type": "code",
      "metadata": {
        "id": "uKhH_NLwWPF1",
        "colab_type": "code",
        "colab": {}
      },
      "source": [
        "x, y = zip(*all_values)"
      ],
      "execution_count": 0,
      "outputs": []
    },
    {
      "cell_type": "markdown",
      "metadata": {
        "id": "H11neWXNu_Qz",
        "colab_type": "text"
      },
      "source": [
        "After executing the cell below you will see a rough representation of the available points on the top layer."
      ]
    },
    {
      "cell_type": "code",
      "metadata": {
        "id": "X_hTKZhXOGat",
        "colab_type": "code",
        "colab": {}
      },
      "source": [
        "plt.scatter(x, y)\n",
        "plt.show()"
      ],
      "execution_count": 0,
      "outputs": []
    },
    {
      "cell_type": "code",
      "metadata": {
        "id": "Nqer1JH_WmHX",
        "colab_type": "code",
        "colab": {}
      },
      "source": [
        "def Z_motion(a, b, c, e, f):\n",
        "  high_Z = max(values_Z) + 0.1\n",
        "  current_X = values_X[-1]\n",
        "  current_Y = values_Y[-1]\n",
        "  line1 = \"G1 \"+\"X\"+str(current_X)+\" Y\"+str(current_Y)+\" Z\"+str('%.2f'%high_Z)+\" F\"+str(f)\n",
        "  line2 = \"G1 \"+\"X\"+str(a)+\" Y\"+str(b)+\" Z\"+str('%.2f'%high_Z)+\" F\"+str(f)\n",
        "  line3 = \"G1 \"+\"X\"+str(a)+\" Y\"+str(b)+\" Z\"+str('%.2f'%(high_Z - 0.1))+\" F\"+str(f)\n",
        "  line4 = \"G1 \"+\"X\"+str(a)+\" Y\"+str(b)+\" Z\"+str(c)+\" E\"+str(e)+\" F\"+str(f)\n",
        "  code_addition = line1+\"\\n\"+line2+\"\\n\"+line3+\"\\n\"+line4\n",
        "  return code_addition"
      ],
      "execution_count": 0,
      "outputs": []
    },
    {
      "cell_type": "code",
      "metadata": {
        "id": "sqs_n44iWlzV",
        "colab_type": "code",
        "colab": {}
      },
      "source": [
        "f1.close()\n",
        "f1 = open(\"sample.txt\", \"at\")"
      ],
      "execution_count": 0,
      "outputs": []
    },
    {
      "cell_type": "markdown",
      "metadata": {
        "id": "as4_NR1CphhU",
        "colab_type": "text"
      },
      "source": [
        "# ***Input Cell***\n",
        "\n",
        "---\n"
      ]
    },
    {
      "cell_type": "markdown",
      "metadata": {
        "id": "HHObQf3PvhaS",
        "colab_type": "text"
      },
      "source": [
        "Cell below is an input cell where we can give the desired XY position where we want the Z-Axis motion.\n",
        "\n",
        "Before executing the cell below, follow these steps:\n",
        "\n",
        "\n",
        "1.   Put the cursor in the cell below and replace \"X co-ordinate\" with an X value.\n",
        "2.   then replace \"Y co-ordinate\" with a y value.\n",
        "3.   then replace \"height of vertical movement\" with a Z value.\n",
        "4.   then replace \"extrusion value\" with a value for amount to be extruded.\n",
        "5. now Execute the cell\n",
        "\n",
        "example:\n",
        "\n",
        "added_code  =  Z_motion(91.8,  84.73,  20.2,  102,  values_F[-1])\n",
        "\n"
      ]
    },
    {
      "cell_type": "code",
      "metadata": {
        "id": "PIcb_bolnoJH",
        "colab_type": "code",
        "colab": {}
      },
      "source": [
        "added_code = Z_motion(87.35, 81.69, 23, 102, values_F[-1])"
      ],
      "execution_count": 0,
      "outputs": []
    },
    {
      "cell_type": "code",
      "metadata": {
        "id": "yDzaDpQKnk4g",
        "colab_type": "code",
        "colab": {}
      },
      "source": [
        "f1.write(added_code)\n",
        "f1.close()"
      ],
      "execution_count": 0,
      "outputs": []
    },
    {
      "cell_type": "markdown",
      "metadata": {
        "id": "Qrwy367VyRx5",
        "colab_type": "text"
      },
      "source": [
        "After executing the cell below, the edited G-Code will be downloaded to your computer.\n"
      ]
    },
    {
      "cell_type": "code",
      "metadata": {
        "id": "RNy9NXo3Wljh",
        "colab_type": "code",
        "colab": {}
      },
      "source": [
        "files.download(\"sample.txt\")\n"
      ],
      "execution_count": 0,
      "outputs": []
    },
    {
      "cell_type": "code",
      "metadata": {
        "id": "A13beudwy73T",
        "colab_type": "code",
        "colab": {}
      },
      "source": [
        "os.remove(\"sample.txt\")"
      ],
      "execution_count": 0,
      "outputs": []
    },
    {
      "cell_type": "code",
      "metadata": {
        "id": "WEXdT0yaQyM_",
        "colab_type": "code",
        "colab": {}
      },
      "source": [
        "all_values.clear()"
      ],
      "execution_count": 0,
      "outputs": []
    },
    {
      "cell_type": "code",
      "metadata": {
        "id": "51TKf95BlS_F",
        "colab_type": "code",
        "colab": {}
      },
      "source": [
        "values_X.clear()\n",
        "values_Y.clear()\n",
        "values_Z.clear()\n",
        "values_E.clear()\n",
        "values_F.clear()"
      ],
      "execution_count": 0,
      "outputs": []
    }
  ]
}